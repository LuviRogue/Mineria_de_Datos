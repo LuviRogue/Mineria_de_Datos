{
  "nbformat": 4,
  "nbformat_minor": 0,
  "metadata": {
    "colab": {
      "name": "Ej_Python_1793775.ipynb",
      "provenance": []
    },
    "kernelspec": {
      "name": "python3",
      "display_name": "Python 3"
    },
    "language_info": {
      "name": "python"
    }
  },
  "cells": [
    {
      "cell_type": "markdown",
      "metadata": {
        "id": "1tSBegRlYNDr"
      },
      "source": [
        "Ejercicio 1:\n",
        "Realiza una variable con tu matricula y realiza una secuencia de imprimir con tu nombre y tu matricula concatenados."
      ]
    },
    {
      "cell_type": "code",
      "metadata": {
        "id": "wWXV9ce0XxDp"
      },
      "source": [
        "nom = str(input(\"Introduce un nombre:\" ))\n",
        "mat = int(input(\"Introduce una matricula:\")) \n",
        "print(\"Nombre:     \",nom,\"\\nMatricula:  \",mat)"
      ],
      "execution_count": null,
      "outputs": []
    },
    {
      "cell_type": "markdown",
      "metadata": {
        "id": "TJ2oCYarYTZB"
      },
      "source": [
        "Ejercicio 2:\n",
        "Pidiendo el input del usuario pide dos números y crea una pequeña calculadora con los operadores básicos de suma, resta, multiplicación, división, y exponente."
      ]
    },
    {
      "cell_type": "code",
      "metadata": {
        "id": "kSboMebzY-Ou"
      },
      "source": [
        "num1 = int(input(\"Introduce un número:\" ))\n",
        "num2 = int(input(\"Introduce otro número:\"))\n",
        "op = int(input(\"Introduce numero de operacion deseada:\\n1-suma\\n2-resta\\n3-mutiplicacion\\n4-division\\n5-exponente\\n\"))\n",
        "\n",
        "if op == 1:\n",
        "  print(\"La respuesta es: \",num1+num2)\n",
        "\n",
        "if op == 2:\n",
        "  print(\"La respuesta es: \",num1-num2)\n",
        "\n",
        "if op == 3:\n",
        "  print(\"La respuesta es: \",num1*num2)\n",
        "\n",
        "if op == 4:\n",
        "  print(\"La respuesta es: \",num1/num2)\n",
        "  \n",
        "if op == 5:\n",
        "  print(\"La respuesta es: \",num1**num2)"
      ],
      "execution_count": null,
      "outputs": []
    },
    {
      "cell_type": "markdown",
      "metadata": {
        "id": "we_4Sxo_bmyl"
      },
      "source": [
        "Ejercicio 3:\n",
        "Con loop while o for, realiza una lista de 10 numeros multiplos de 3, y después realiza una función de loop que sume todos los números dentro del arreglo."
      ]
    },
    {
      "cell_type": "code",
      "metadata": {
        "id": "yHIos3CkbtD9"
      },
      "source": [
        "list = []\n",
        "i=1\n",
        "\n",
        "while i <= 10:\n",
        "  list.insert(i, 3*i)\n",
        "  i=i+1\n",
        "\n",
        "print(list)\n",
        "tot=0\n",
        "\n",
        "for i in range(0,10):\n",
        "    tot=tot+list[i]\n",
        "    \n",
        "print(\"El total es: \",tot)"
      ],
      "execution_count": null,
      "outputs": []
    },
    {
      "cell_type": "markdown",
      "metadata": {
        "id": "VtY6MSqTfX9J"
      },
      "source": [
        "Ejercicio 4\n",
        "Con una función de if else, revisar si un número es par o es impar.\n",
        "Con una función de if else, revisar si un número es primo o no."
      ]
    },
    {
      "cell_type": "code",
      "metadata": {
        "id": "LTe_BKGxfguM"
      },
      "source": [
        "num = int(input(\"Introduce un numero: \"))  \n",
        "\n",
        "if (num % 2) == 0:  \n",
        "   print(\"Es par\")  \n",
        "\n",
        "else:  \n",
        "   print(\"Es impar\") \n",
        "\n",
        "if num > 1:\n",
        "    for i in range(2, num):\n",
        "        if (num % i) == 0:\n",
        "            print(num, \"No es primo\")\n",
        "            break\n",
        "            \n",
        "print(\"Es primo\")"
      ],
      "execution_count": null,
      "outputs": []
    },
    {
      "cell_type": "markdown",
      "metadata": {
        "id": "Mc1R7uNqhQfE"
      },
      "source": [
        "Ejercicio 5\n",
        "Utilizando diferentes clases en python, crea una calculadora con los operadores básicos de suma, resta, multiplicación, división, y exponente."
      ]
    },
    {
      "cell_type": "code",
      "metadata": {
        "id": "N4thzIYlhb9S"
      },
      "source": [
        "class calculadora:\n",
        "    def __init__(self, num1, num2):\n",
        "        self.num1 = float(num1)\n",
        "        self.num2 = float(num2)\n",
        "\n",
        "    def suma(self):\n",
        "        sum = self.num1 + self.num2\n",
        "        print(\"el resultado es: \", sum)\n",
        "\n",
        "    def resta(self):\n",
        "        res = self.num1 - self.num2\n",
        "        print(\"el resultado es: \", res)\n",
        "\n",
        "    def multiplicacion(self):\n",
        "        multi = self.num1 * self.num2\n",
        "        print(\"el resultado es: \", multi)\n",
        "\n",
        "    def division(self):\n",
        "        div = self.num1 / self.num2\n",
        "        print(\"el resultado es: \", div)\n",
        "\n",
        "    def exponente(self):\n",
        "        ex = self.num1 / self.num2\n",
        "        print(\"el resultado es: \", ex)\n",
        "\n",
        "\n",
        "num1 = input(\"Intoduce un numero: \")\n",
        "num2 = input(\"Introduce otro numero: \")\n",
        "\n",
        "calculadora = calculadora(num1, num2)\n",
        "\n",
        "op = int(input(\"Introduce numero de operacion deseada:\\n1-suma\\n2-resta\\n3-mutiplicacion\\n4-division\\n5-exponente\\n\"))\n",
        "if op == 1:\n",
        "  calculadora.suma()\n",
        "if op == 2:\n",
        "  calculadora.resta()\n",
        "if op == 3:\n",
        "  calculadora.multiplicacion()\n",
        "if op == 4:\n",
        "  calculadora.division()\n",
        "if op == 5:\n",
        "  calculadora.exponente()"
      ],
      "execution_count": null,
      "outputs": []
    },
    {
      "cell_type": "markdown",
      "metadata": {
        "id": "McbOTTPGtBKR"
      },
      "source": [
        "Crear una variable flotante, integer, boleana y compleja e imprimir el tipo de variable que es."
      ]
    },
    {
      "cell_type": "code",
      "metadata": {
        "id": "LM1GPcdLtEEe"
      },
      "source": [
        "flot=3.1415927\n",
        "inte=3\n",
        "boo=True\n",
        "comp=(4.5 + 3j)\n",
        "\n",
        "print(type(flot))\n",
        "print(type(inte))\n",
        "print(type(boo))\n",
        "print(type(comp))"
      ],
      "execution_count": null,
      "outputs": []
    },
    {
      "cell_type": "markdown",
      "metadata": {
        "id": "HvMr_IqGtrau"
      },
      "source": [
        "Crear una tupla con valores enteros imprimir el primer y ultimo valor."
      ]
    },
    {
      "cell_type": "code",
      "metadata": {
        "id": "ovDSCU6qtuI1"
      },
      "source": [
        "tup=[1,2,3,4,5,6,7,8,9]\n",
        "\n",
        "print(\"El primer valor es: \",tup[0])\n",
        "print(\"El ultimo valor es: \",tup[len(tup)-1])"
      ],
      "execution_count": null,
      "outputs": []
    },
    {
      "cell_type": "markdown",
      "metadata": {
        "id": "4zIxfE0kvmMy"
      },
      "source": [
        "Añadir 3 valores de string a la tupla."
      ]
    },
    {
      "cell_type": "code",
      "metadata": {
        "id": "D1lVAcVQvseP"
      },
      "source": [
        "tup=[1,2,3,4,5,6,7,8,9]\n",
        "\n",
        "tup.insert(9,\"HOLA\")\n",
        "tup.insert(10,\"SOY\")\n",
        "tup.insert(11,\"YO\")\n",
        "\n",
        "print(tup)"
      ],
      "execution_count": null,
      "outputs": []
    },
    {
      "cell_type": "markdown",
      "metadata": {
        "id": "wn62Wx-lwYdH"
      },
      "source": [
        "Verificar si una variable existe dentro de la tupla"
      ]
    },
    {
      "cell_type": "code",
      "metadata": {
        "id": "wVHUOsK2wc_d"
      },
      "source": [
        "tup=[1,2,3,4,5,6,7,8,9]\n",
        "num = int(input(\"Introduce un numero: \"))  \n",
        "\n",
        "if num in tup: \n",
        "    print(\"El número esta en la tupla\")\n",
        "\n",
        "else:\n",
        "  print(\"El número no esta en la tupla\")"
      ],
      "execution_count": null,
      "outputs": []
    },
    {
      "cell_type": "markdown",
      "metadata": {
        "id": "JT1pnnmm1Rou"
      },
      "source": [
        "Crear una lista con 40 elementos aleatorios enteros."
      ]
    },
    {
      "cell_type": "code",
      "metadata": {
        "id": "Pwb87eu-1Svm"
      },
      "source": [
        "import random\n",
        "list=[]\n",
        "i=0\n",
        "\n",
        "while i <= 39:\n",
        "  list.insert(i,random.randint(0, 40))\n",
        "  i=i+1\n",
        "\n",
        "print(list)"
      ],
      "execution_count": null,
      "outputs": []
    },
    {
      "cell_type": "markdown",
      "metadata": {
        "id": "JgBKuHvmATVq"
      },
      "source": [
        "Con una funcion (def) crear dos listas nuevas a partir de la lista creada por numeros aleatorios, en la cual en una esten los elementos pares, y en la otra los elementos impares."
      ]
    },
    {
      "cell_type": "code",
      "metadata": {
        "id": "sRw_-5FeAYgf"
      },
      "source": [
        "listpar=[]\n",
        "listimpar=[]\n",
        "\n",
        "def ParImpar(a):\n",
        "    i=0\n",
        "    o=0\n",
        "    lista=[]\n",
        "    while i <= 39:\n",
        "      if (a[i] % 2) == 0:  \n",
        "        lista.insert(o,a[i])\n",
        "        o=o+1\n",
        "      i=i+1\n",
        "    return lista\n",
        "\n",
        "listpar=ParImpar(list)\n",
        "i=0\n",
        "o=0\n",
        "for i in range(0,40):\n",
        "  if list[i] not in listpar:\n",
        "    listimpar.insert(o,list[i])\n",
        "    o=o+1\n",
        "  i=i+1\n",
        "print(list)\n",
        "print(listpar)\n",
        "print(listimpar)"
      ],
      "execution_count": null,
      "outputs": []
    },
    {
      "cell_type": "markdown",
      "metadata": {
        "id": "pZKSFku4J7NP"
      },
      "source": [
        "Crear dos variables con la longitud de ambas listas nuevas e imprimir las variables."
      ]
    },
    {
      "cell_type": "code",
      "metadata": {
        "id": "zA2IfmY0KD2x"
      },
      "source": [
        "lenlistpar=len(listpar)\n",
        "lenlistimpar=len(listimpar)\n",
        "print(\"La longuitud de la lista de pares es: \",lenlistpar,\"\\nLa longuitud de la lista de impares es: \",lenlistimpar)"
      ],
      "execution_count": null,
      "outputs": []
    },
    {
      "cell_type": "markdown",
      "metadata": {
        "id": "v1qC2bgILI3-"
      },
      "source": [
        "Ordenar los elementos de la lista par de mayor a menor, y los de la lista impar de menor a mayor."
      ]
    },
    {
      "cell_type": "code",
      "metadata": {
        "id": "vlnB1qjzLNhb"
      },
      "source": [
        "listpar.sort()\n",
        "listpar.reverse()\n",
        "listimpar.sort()\n",
        "print(listpar)\n",
        "print(listimpar)"
      ],
      "execution_count": null,
      "outputs": []
    },
    {
      "cell_type": "markdown",
      "metadata": {
        "id": "VLCn4X2QLO9v"
      },
      "source": [
        "Utilizar al menos cuatro de las funciones de listas en python en la lista original de 40 elementos."
      ]
    },
    {
      "cell_type": "code",
      "metadata": {
        "id": "YwKv50jmLTaM"
      },
      "source": [
        "list.sort()\n",
        "list.reverse()\n",
        "print(list.index(2))\n",
        "print(len(list))"
      ],
      "execution_count": null,
      "outputs": []
    },
    {
      "cell_type": "markdown",
      "metadata": {
        "id": "dX0vvAVdinP5"
      },
      "source": [
        "Crear un diccionario de 6 personas que conozcas con su primer nombre y su edad."
      ]
    },
    {
      "cell_type": "code",
      "metadata": {
        "id": "ccrQDzGsiwcz"
      },
      "source": [
        "dic = {\"nombre\" : [\"Carlos\",\"Carla\",\"Chris\",\"Charles\",\"Cami\",\"Catalina\"],'edad' : [22,23,25,28,20,21]}\n",
        "                                                                                           \n",
        "print(dic)"
      ],
      "execution_count": null,
      "outputs": []
    },
    {
      "cell_type": "markdown",
      "metadata": {
        "id": "tn9qz_XAiwqS"
      },
      "source": [
        "Crear una lista con los valores de la edad y reacomodar la lista de menor a mayor valor."
      ]
    },
    {
      "cell_type": "code",
      "metadata": {
        "colab": {
          "base_uri": "https://localhost:8080/"
        },
        "id": "vmhT9lNziyzi",
        "outputId": "003edfeb-06a9-4d05-83fd-be70bbd2ec28"
      },
      "source": [
        "listedad=[]\n",
        "dic = {\"nombre\" : [\"Carlos\",\"Carla\",\"Chris\",\"Charles\",\"Cami\",\"Catalina\"],'edad' : [22,23,25,28,20,21]}\n",
        "i=0\n",
        "\n",
        "for i in range(0,6):\n",
        "  listedad.insert(i,dic[\"edad\"][i])\n",
        "  i=i+1\n",
        "\n",
        "listedad.sort()\n",
        "\n",
        "print(listedad)"
      ],
      "execution_count": 43,
      "outputs": [
        {
          "output_type": "stream",
          "text": [
            "[20, 21, 22, 23, 25, 28]\n"
          ],
          "name": "stdout"
        }
      ]
    },
    {
      "cell_type": "markdown",
      "metadata": {
        "id": "lr0bXWVzizLy"
      },
      "source": [
        "Usando el diccionario y un loop, imprimir solo los nombres."
      ]
    },
    {
      "cell_type": "code",
      "metadata": {
        "id": "qsQqGxcbi1mj"
      },
      "source": [
        "dic = {\"nombre\" : [\"Carlos\",\"Carla\",\"Chris\",\"Charles\",\"Cami\",\"Catalina\"],'edad' : [22,23,25,28,20,21]}\n",
        "i=0\n",
        "for i in range(0,6):\n",
        "  print(dic[\"nombre\"][i])"
      ],
      "execution_count": null,
      "outputs": []
    },
    {
      "cell_type": "markdown",
      "metadata": {
        "id": "Vh9nxA0Li2AE"
      },
      "source": [
        "Añadir dos personas nuevas a tu diccionario, incluyendo edad."
      ]
    },
    {
      "cell_type": "code",
      "metadata": {
        "id": "izL4zdj9i2wa"
      },
      "source": [
        "dic = {\"Carlos\":22,\"Carla\":23,\"Chris\":25,\"Charles\":28,\"Cami\":20,\"Catalina\": 1}\n",
        "nom=input('Introduzca el nombre: ')\n",
        "edad=int(input('Introduzca su edad: '))\n",
        "dic[nom]=edad\n",
        "print(dic)\n"
      ],
      "execution_count": null,
      "outputs": []
    },
    {
      "cell_type": "markdown",
      "metadata": {
        "id": "VbmgTOhmonbq"
      },
      "source": [
        "Crea un set con 100 numeros aleatorios enteros del 1 al 25."
      ]
    },
    {
      "cell_type": "code",
      "metadata": {
        "id": "X6AD8uSXopP4"
      },
      "source": [
        "import random\n",
        "set={0}\n",
        "i=0\n",
        "\n",
        "for i in range(0,99):\n",
        "  set.add(random.randint(1, 25))\n",
        "\n",
        "print(set)"
      ],
      "execution_count": null,
      "outputs": []
    },
    {
      "cell_type": "markdown",
      "metadata": {
        "id": "afLonoSlop9X"
      },
      "source": [
        "Comprueba la longitud de tu set."
      ]
    },
    {
      "cell_type": "code",
      "metadata": {
        "id": "EJzjLxitosTy"
      },
      "source": [
        "print(len(set))"
      ],
      "execution_count": null,
      "outputs": []
    },
    {
      "cell_type": "markdown",
      "metadata": {
        "id": "t34vll9Xosri"
      },
      "source": [
        "Crea una lista de 5 numeros aleatorios del 1 al 10 y comprueba si cada valor aparece en el set inicial."
      ]
    },
    {
      "cell_type": "code",
      "metadata": {
        "id": "XCgX5ko2otd4"
      },
      "source": [
        "import random\n",
        "list=[]\n",
        "list2=[]\n",
        "set={0}\n",
        "i=0\n",
        "\n",
        "while (len(set)) <= 9:\n",
        "  set.add(random.randint(1, 25))\n",
        "\n",
        "print(set)\n",
        "\n",
        "while i <= 4:\n",
        "  list.insert(i,random.randint(1, 10))\n",
        "  i=i+1\n",
        "\n",
        "print(list)\n",
        "\n",
        "i=0\n",
        "o=0\n",
        "\n",
        "while i<=4:\n",
        "  if list[i] not in list2:\n",
        "    if list[i] in set:\n",
        "      list2.insert(o,list[i])\n",
        "      o=o+1\n",
        "  i=i+1\n",
        "print(list2,\" estan en el set\")"
      ],
      "execution_count": null,
      "outputs": []
    }
  ]
}